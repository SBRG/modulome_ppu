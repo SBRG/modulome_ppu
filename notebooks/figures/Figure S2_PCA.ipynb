{
 "cells": [
  {
   "cell_type": "code",
   "execution_count": 10,
   "id": "informed-celebrity",
   "metadata": {},
   "outputs": [],
   "source": [
    "import pandas as pd\n",
    "import os\n",
    "from os import path\n",
    "import matplotlib.pyplot as plt\n",
    "import seaborn as sns\n",
    "import numpy as np\n",
    "from sklearn.decomposition import PCA"
   ]
  },
  {
   "cell_type": "code",
   "execution_count": 11,
   "id": "responsible-mounting",
   "metadata": {},
   "outputs": [],
   "source": [
    "sns.set_style('ticks')"
   ]
  },
  {
   "cell_type": "code",
   "execution_count": 12,
   "id": "closed-strategy",
   "metadata": {},
   "outputs": [],
   "source": [
    "plt.rcParams['svg.fonttype'] = 'none'"
   ]
  },
  {
   "cell_type": "code",
   "execution_count": 13,
   "id": "certified-bracket",
   "metadata": {},
   "outputs": [
    {
     "data": {
      "text/plain": [
       "['ica_runs',\n",
       " 'metadata_preQC.csv',\n",
       " '.DS_Store',\n",
       " 'log_tpm_qc.csv',\n",
       " 'primary_QC.csv',\n",
       " 'metadata_qc.csv']"
      ]
     },
     "execution_count": 13,
     "metadata": {},
     "output_type": "execute_result"
    }
   ],
   "source": [
    "org_dir = path.join('../../data/interim/')\n",
    "os.listdir(org_dir)"
   ]
  },
  {
   "cell_type": "code",
   "execution_count": 9,
   "id": "breathing-relation",
   "metadata": {},
   "outputs": [],
   "source": [
    "DF_metadata = pd.read_csv(\"../../data/raw_data/Pseudomonas_putida_2020-08-31.tsv\", sep='\\t', index_col=0)\n",
    "DF_metadata_passed = pd.read_csv(os.path.join(org_dir,'metadata_qc.csv'),index_col=0)\n",
    "DF_log_tpm = pd.read_csv(os.path.join(org_dir,'log_tpm_qc.csv'),index_col=0)\n",
    "DF_metadata_preQC = pd.read_csv('../../data/interim/metadata_preQC.csv')"
   ]
  },
  {
   "cell_type": "code",
   "execution_count": 52,
   "id": "nonprofit-translation",
   "metadata": {},
   "outputs": [],
   "source": [
    "QC_PI = [DF_metadata.index.size,\n",
    "         DF_metadata_preQC[DF_metadata_preQC.passed_fastqc==True].index.size,\n",
    "         DF_metadata_preQC[(DF_metadata_preQC.passed_fastqc==True) & (DF_metadata_preQC.passed_reads_mapped_to_CDS==True)].index.size,\n",
    "        DF_metadata_preQC[(DF_metadata_preQC.passed_fastqc==True) & (DF_metadata_preQC.passed_reads_mapped_to_CDS==True) & (DF_metadata_preQC.passed_global_correlation==True) & (DF_metadata_preQC.KT2440==True)].index.size,\n",
    "        DF_metadata_passed.index.size\n",
    "        ]"
   ]
  },
  {
   "cell_type": "code",
   "execution_count": 54,
   "id": "sudden-steam",
   "metadata": {},
   "outputs": [],
   "source": [
    "QC_area = [QC_PI[0]-QC_PI[1], QC_PI[1]-QC_PI[2], QC_PI[2]-QC_PI[3], QC_PI[3]-QC_PI[4], QC_PI[4]]"
   ]
  },
  {
   "cell_type": "code",
   "execution_count": 59,
   "id": "incorporate-truck",
   "metadata": {},
   "outputs": [
    {
     "data": {
      "image/png": "[encoded data removed]",
      "text/plain": [
       "<Figure size 432x288 with 1 Axes>"
      ]
     },
     "metadata": {},
     "output_type": "display_data"
    }
   ],
   "source": [
    "fig,_,pcts = plt.pie(QC_area,\n",
    "        #labels = ['Passed','Discarded'],\n",
    "        #colors=['tab:blue','tab:red'],\n",
    "        autopct='%.0f%%',textprops={'size':16});\n",
    "\n",
    "# Colors percents white\n",
    "for pct in pcts:\n",
    "    pct.set_color('white')\n",
    "    \n",
    "plt.savefig('./raw_files/FigS1a_QC_num_pie.svg', format=\"svg\")\n"
   ]
  },
  {
   "cell_type": "markdown",
   "id": "parental-formula",
   "metadata": {},
   "source": [
    "###### "
   ]
  },
  {
   "cell_type": "markdown",
   "id": "prepared-trust",
   "metadata": {},
   "source": [
    "# Fig S1B"
   ]
  },
  {
   "cell_type": "code",
   "execution_count": 44,
   "id": "desperate-despite",
   "metadata": {},
   "outputs": [],
   "source": [
    "DF_metadata = pd.read_csv(\"../../data/raw_data/Pseudomonas_putida_2020-08-31.tsv\", sep='\\t', index_col=0)\n",
    "DF_metadata_passed=pd.read_csv(\"../../data/interim/metadata_qc.csv\", index_col=0)"
   ]
  },
  {
   "cell_type": "code",
   "execution_count": 57,
   "id": "average-cleaner",
   "metadata": {},
   "outputs": [],
   "source": [
    "data = DF_metadata_passed['full_name'].value_counts().sort_values()"
   ]
  },
  {
   "cell_type": "code",
   "execution_count": 80,
   "id": "abroad-basketball",
   "metadata": {},
   "outputs": [
    {
     "data": {
      "text/plain": [
       "541"
      ]
     },
     "execution_count": 80,
     "metadata": {},
     "output_type": "execute_result"
    }
   ],
   "source": [
    "DF_metadata.index.size"
   ]
  },
  {
   "cell_type": "code",
   "execution_count": 66,
   "id": "ignored-demonstration",
   "metadata": {},
   "outputs": [],
   "source": [
    "data = [DF_metadata_passed.index.size, DF_metadata.index.size-DF_metadata_passed.index.size]"
   ]
  },
  {
   "cell_type": "code",
   "execution_count": 67,
   "id": "superb-exclusive",
   "metadata": {},
   "outputs": [
    {
     "data": {
      "text/plain": [
       "[321, 220]"
      ]
     },
     "execution_count": 67,
     "metadata": {},
     "output_type": "execute_result"
    }
   ],
   "source": [
    "data"
   ]
  },
  {
   "cell_type": "code",
   "execution_count": 79,
   "id": "continued-royal",
   "metadata": {},
   "outputs": [
    {
     "data": {
      "image/png": "[encoded data removed]",
      "text/plain": [
       "<Figure size 432x288 with 1 Axes>"
      ]
     },
     "metadata": {},
     "output_type": "display_data"
    }
   ],
   "source": [
    "fig,_,pcts = plt.pie(data,\n",
    "        labels = ['Passed','Discarded'],\n",
    "        colors=['tab:blue','tab:red'],\n",
    "        autopct='%.0f%%',textprops={'size':16});\n",
    "\n",
    "# Colors percents white\n",
    "for pct in pcts:\n",
    "    pct.set_color('white')\n",
    "    \n",
    "plt.savefig('./raw_files/FigS1b_QC_pie.svg', format=\"svg\")\n"
   ]
  },
  {
   "cell_type": "markdown",
   "id": "southwest-calculator",
   "metadata": {},
   "source": [
    "# Fig S1B"
   ]
  },
  {
   "cell_type": "code",
   "execution_count": 44,
   "id": "electric-summer",
   "metadata": {},
   "outputs": [],
   "source": [
    "DF_metadata = pd.read_csv(\"../../data/raw_data/Pseudomonas_putida_2020-08-31.tsv\", sep='\\t', index_col=0)\n",
    "DF_metadata_passed=pd.read_csv(\"../../data/interim/metadata_qc.csv\", index_col=0)"
   ]
  },
  {
   "cell_type": "code",
   "execution_count": 57,
   "id": "bigger-observer",
   "metadata": {},
   "outputs": [],
   "source": [
    "data = DF_metadata_passed['full_name'].value_counts().sort_values()"
   ]
  },
  {
   "cell_type": "code",
   "execution_count": 80,
   "id": "vertical-sleeve",
   "metadata": {},
   "outputs": [
    {
     "data": {
      "text/plain": [
       "541"
      ]
     },
     "execution_count": 80,
     "metadata": {},
     "output_type": "execute_result"
    }
   ],
   "source": [
    "DF_metadata.index.size"
   ]
  },
  {
   "cell_type": "code",
   "execution_count": 66,
   "id": "relevant-voltage",
   "metadata": {},
   "outputs": [],
   "source": [
    "data = [DF_metadata_passed.index.size, DF_metadata.index.size-DF_metadata_passed.index.size]"
   ]
  },
  {
   "cell_type": "code",
   "execution_count": 67,
   "id": "continuing-boating",
   "metadata": {},
   "outputs": [
    {
     "data": {
      "text/plain": [
       "[321, 220]"
      ]
     },
     "execution_count": 67,
     "metadata": {},
     "output_type": "execute_result"
    }
   ],
   "source": [
    "data"
   ]
  },
  {
   "cell_type": "code",
   "execution_count": 79,
   "id": "vietnamese-latitude",
   "metadata": {},
   "outputs": [
    {
     "data": {
      "image/png": "[encoded data removed]",
      "text/plain": [
       "<Figure size 432x288 with 1 Axes>"
      ]
     },
     "metadata": {},
     "output_type": "display_data"
    }
   ],
   "source": [
    "fig,_,pcts = plt.pie(data,\n",
    "        labels = ['Passed','Discarded'],\n",
    "        colors=['tab:blue','tab:red'],\n",
    "        autopct='%.0f%%',textprops={'size':16});\n",
    "\n",
    "# Colors percents white\n",
    "for pct in pcts:\n",
    "    pct.set_color('white')\n",
    "    \n",
    "plt.savefig('./raw_files/FigS1b_QC_pie.svg', format=\"svg\")\n"
   ]
  },
  {
   "cell_type": "markdown",
   "id": "extra-venture",
   "metadata": {},
   "source": [
    "# Fig S1B"
   ]
  },
  {
   "cell_type": "code",
   "execution_count": 10,
   "id": "natural-kenya",
   "metadata": {},
   "outputs": [],
   "source": [
    "DF_metadata_passed=pd.read_csv(\"../../data/interim/metadata_qc.csv\", index_col=0)"
   ]
  },
  {
   "cell_type": "code",
   "execution_count": 11,
   "id": "enhanced-demographic",
   "metadata": {},
   "outputs": [],
   "source": [
    "data = DF_metadata_passed['full_name'].value_counts().sort_values()"
   ]
  },
  {
   "cell_type": "code",
   "execution_count": 12,
   "id": "tight-resistance",
   "metadata": {},
   "outputs": [
    {
     "data": {
      "text/plain": [
       "541"
      ]
     },
     "execution_count": 12,
     "metadata": {},
     "output_type": "execute_result"
    }
   ],
   "source": [
    "DF_metadata.index.size"
   ]
  },
  {
   "cell_type": "code",
   "execution_count": 13,
   "id": "developmental-survivor",
   "metadata": {},
   "outputs": [],
   "source": [
    "data = [DF_metadata_passed.index.size, DF_metadata.index.size-DF_metadata_passed.index.size]"
   ]
  },
  {
   "cell_type": "code",
   "execution_count": 14,
   "id": "manufactured-satellite",
   "metadata": {},
   "outputs": [
    {
     "data": {
      "text/plain": [
       "[321, 220]"
      ]
     },
     "execution_count": 14,
     "metadata": {},
     "output_type": "execute_result"
    }
   ],
   "source": [
    "data"
   ]
  },
  {
   "cell_type": "code",
   "execution_count": 15,
   "id": "minus-theta",
   "metadata": {},
   "outputs": [
    {
     "data": {
      "image/png": "[encoded data removed]",
      "text/plain": [
       "<Figure size 432x288 with 1 Axes>"
      ]
     },
     "metadata": {},
     "output_type": "display_data"
    }
   ],
   "source": [
    "fig,_,pcts = plt.pie(data,\n",
    "        labels = ['Passed','Discarded'],\n",
    "        colors=['tab:blue','tab:red'],\n",
    "        autopct='%.0f%%',textprops={'size':16});\n",
    "\n",
    "# Colors percents white\n",
    "for pct in pcts:\n",
    "    pct.set_color('white')\n",
    "    \n",
    "plt.savefig('./raw_files/FigS1b_QC_pie.svg', format=\"svg\")\n"
   ]
  },
  {
   "cell_type": "markdown",
   "id": "electoral-cleaning",
   "metadata": {},
   "source": [
    "# Fig S1C"
   ]
  },
  {
   "cell_type": "code",
   "execution_count": 24,
   "id": "executed-swimming",
   "metadata": {},
   "outputs": [],
   "source": []
  },
  {
   "cell_type": "code",
   "execution_count": 8,
   "id": "instructional-behalf",
   "metadata": {},
   "outputs": [
    {
     "ename": "NameError",
     "evalue": "name 'DF_log_tpm' is not defined",
     "output_type": "error",
     "traceback": [
      "\u001b[0;31m---------------------------------------------------------------------------\u001b[0m",
      "\u001b[0;31mNameError\u001b[0m                                 Traceback (most recent call last)",
      "\u001b[0;32m/var/folders/80/k0yk5y8d0h92ybc8qhpcw3h40000gn/T/ipykernel_98191/196064815.py\u001b[0m in \u001b[0;36m<module>\u001b[0;34m\u001b[0m\n\u001b[1;32m      1\u001b[0m \u001b[0mpca\u001b[0m \u001b[0;34m=\u001b[0m \u001b[0mPCA\u001b[0m\u001b[0;34m(\u001b[0m\u001b[0;34m)\u001b[0m\u001b[0;34m\u001b[0m\u001b[0;34m\u001b[0m\u001b[0m\n\u001b[0;32m----> 2\u001b[0;31m \u001b[0mDF_weights\u001b[0m \u001b[0;34m=\u001b[0m \u001b[0mpd\u001b[0m\u001b[0;34m.\u001b[0m\u001b[0mDataFrame\u001b[0m\u001b[0;34m(\u001b[0m\u001b[0mpca\u001b[0m\u001b[0;34m.\u001b[0m\u001b[0mfit_transform\u001b[0m\u001b[0;34m(\u001b[0m\u001b[0mDF_log_tpm\u001b[0m\u001b[0;34m.\u001b[0m\u001b[0mT\u001b[0m\u001b[0;34m)\u001b[0m\u001b[0;34m,\u001b[0m\u001b[0mindex\u001b[0m\u001b[0;34m=\u001b[0m\u001b[0mDF_log_tpm\u001b[0m\u001b[0;34m.\u001b[0m\u001b[0mcolumns\u001b[0m\u001b[0;34m)\u001b[0m\u001b[0;34m\u001b[0m\u001b[0;34m\u001b[0m\u001b[0m\n\u001b[0m\u001b[1;32m      3\u001b[0m \u001b[0mDF_components\u001b[0m \u001b[0;34m=\u001b[0m \u001b[0mpd\u001b[0m\u001b[0;34m.\u001b[0m\u001b[0mDataFrame\u001b[0m\u001b[0;34m(\u001b[0m\u001b[0mpca\u001b[0m\u001b[0;34m.\u001b[0m\u001b[0mcomponents_\u001b[0m\u001b[0;34m.\u001b[0m\u001b[0mT\u001b[0m\u001b[0;34m,\u001b[0m\u001b[0mindex\u001b[0m\u001b[0;34m=\u001b[0m\u001b[0mDF_log_tpm\u001b[0m\u001b[0;34m.\u001b[0m\u001b[0mindex\u001b[0m\u001b[0;34m)\u001b[0m\u001b[0;34m\u001b[0m\u001b[0;34m\u001b[0m\u001b[0m\n",
      "\u001b[0;31mNameError\u001b[0m: name 'DF_log_tpm' is not defined"
     ]
    }
   ],
   "source": [
    "pca = PCA()\n",
    "DF_weights = pd.DataFrame(pca.fit_transform(DF_log_tpm.T),index=DF_log_tpm.columns)\n",
    "DF_components = pd.DataFrame(pca.components_.T,index=DF_log_tpm.index)"
   ]
  },
  {
   "cell_type": "code",
   "execution_count": 9,
   "id": "authentic-monte",
   "metadata": {},
   "outputs": [
    {
     "ename": "NameError",
     "evalue": "name 'DF_metadata' is not defined",
     "output_type": "error",
     "traceback": [
      "\u001b[0;31m---------------------------------------------------------------------------\u001b[0m",
      "\u001b[0;31mNameError\u001b[0m                                 Traceback (most recent call last)",
      "\u001b[0;32m/var/folders/80/k0yk5y8d0h92ybc8qhpcw3h40000gn/T/ipykernel_98191/151241925.py\u001b[0m in \u001b[0;36m<module>\u001b[0;34m\u001b[0m\n\u001b[1;32m      1\u001b[0m \u001b[0mfig\u001b[0m\u001b[0;34m,\u001b[0m\u001b[0max\u001b[0m \u001b[0;34m=\u001b[0m \u001b[0mplt\u001b[0m\u001b[0;34m.\u001b[0m\u001b[0msubplots\u001b[0m\u001b[0;34m(\u001b[0m\u001b[0mfigsize\u001b[0m\u001b[0;34m=\u001b[0m\u001b[0;34m(\u001b[0m\u001b[0;36m12\u001b[0m\u001b[0;34m,\u001b[0m\u001b[0;36m10\u001b[0m\u001b[0;34m)\u001b[0m\u001b[0;34m)\u001b[0m\u001b[0;34m\u001b[0m\u001b[0;34m\u001b[0m\u001b[0m\n\u001b[0;32m----> 2\u001b[0;31m \u001b[0;32mfor\u001b[0m \u001b[0mname\u001b[0m\u001b[0;34m,\u001b[0m\u001b[0mgroup\u001b[0m \u001b[0;32min\u001b[0m \u001b[0mDF_metadata\u001b[0m\u001b[0;34m.\u001b[0m\u001b[0mgroupby\u001b[0m\u001b[0;34m(\u001b[0m\u001b[0;34m'project_name'\u001b[0m\u001b[0;34m)\u001b[0m\u001b[0;34m:\u001b[0m\u001b[0;34m\u001b[0m\u001b[0;34m\u001b[0m\u001b[0m\n\u001b[0m\u001b[1;32m      3\u001b[0m     \u001b[0midx\u001b[0m \u001b[0;34m=\u001b[0m \u001b[0mDF_log_tpm\u001b[0m\u001b[0;34m.\u001b[0m\u001b[0mloc\u001b[0m\u001b[0;34m[\u001b[0m\u001b[0;34m:\u001b[0m\u001b[0;34m,\u001b[0m\u001b[0mgroup\u001b[0m\u001b[0;34m.\u001b[0m\u001b[0mindex\u001b[0m\u001b[0;34m.\u001b[0m\u001b[0mtolist\u001b[0m\u001b[0;34m(\u001b[0m\u001b[0;34m)\u001b[0m\u001b[0;34m]\u001b[0m\u001b[0;34m.\u001b[0m\u001b[0mcolumns\u001b[0m\u001b[0;34m.\u001b[0m\u001b[0mtolist\u001b[0m\u001b[0;34m(\u001b[0m\u001b[0;34m)\u001b[0m\u001b[0;34m\u001b[0m\u001b[0;34m\u001b[0m\u001b[0m\n\u001b[1;32m      4\u001b[0m     ax.scatter(DF_weights.loc[idx,0],\n\u001b[1;32m      5\u001b[0m                \u001b[0mDF_weights\u001b[0m\u001b[0;34m.\u001b[0m\u001b[0mloc\u001b[0m\u001b[0;34m[\u001b[0m\u001b[0midx\u001b[0m\u001b[0;34m,\u001b[0m\u001b[0;36m1\u001b[0m\u001b[0;34m]\u001b[0m\u001b[0;34m,\u001b[0m\u001b[0;34m\u001b[0m\u001b[0;34m\u001b[0m\u001b[0m\n",
      "\u001b[0;31mNameError\u001b[0m: name 'DF_metadata' is not defined"
     ]
    },
    {
     "data": {
      "image/png": "[encoded data removed]",
      "text/plain": [
       "<Figure size 864x720 with 1 Axes>"
      ]
     },
     "metadata": {},
     "output_type": "display_data"
    }
   ],
   "source": [
    "fig,ax = plt.subplots(figsize=(12,10))\n",
    "for name,group in DF_metadata.groupby('project_name'):\n",
    "    idx = DF_log_tpm.loc[:,group.index.tolist()].columns.tolist()\n",
    "    ax.scatter(DF_weights.loc[idx,0],\n",
    "               DF_weights.loc[idx,1],\n",
    "               label=name,alpha=0.8)\n",
    "ax.set_xlabel('Component 1: %.1f%%'%(pca.explained_variance_ratio_[0]*100),fontsize=16)\n",
    "ax.set_ylabel('Component 2: %.1f%%'%(pca.explained_variance_ratio_[1]*100),fontsize=16)\n",
    "ax.set_title('Principal Component Plot',fontsize=18)\n",
    "plt.legend(bbox_to_anchor=(1,1),fontsize=15,ncol=2)"
   ]
  },
  {
   "cell_type": "code",
   "execution_count": 27,
   "id": "smaller-factor",
   "metadata": {},
   "outputs": [],
   "source": [
    "fig.savefig(\"./raw_files/FigS1c_PCA.svg\")"
   ]
  },
  {
   "cell_type": "code",
   "execution_count": null,
   "id": "specific-sympathy",
   "metadata": {},
   "outputs": [],
   "source": []
  }
 ],
 "metadata": {
  "kernelspec": {
   "display_name": "Python 3 (ipykernel)",
   "language": "python",
   "name": "python3"
  },
  "language_info": {
   "codemirror_mode": {
    "name": "ipython",
    "version": 3
   },
   "file_extension": ".py",
   "mimetype": "text/x-python",
   "name": "python",
   "nbconvert_exporter": "python",
   "pygments_lexer": "ipython3",
   "version": "3.9.7"
  }
 },
 "nbformat": 4,
 "nbformat_minor": 5
}
